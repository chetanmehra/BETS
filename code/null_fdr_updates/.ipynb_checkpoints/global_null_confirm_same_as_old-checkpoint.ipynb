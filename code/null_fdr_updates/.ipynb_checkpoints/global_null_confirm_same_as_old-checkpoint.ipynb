{
 "cells": [
  {
   "cell_type": "markdown",
   "metadata": {},
   "source": [
    "# Let's confirm that the new global null and global FDR gets the same result as what we had implemented before.\n",
    "There should be an off-by-one difference betwen the coefs in global null and old, because get_XY_lagged only replaces the replace_row"
   ]
  },
  {
   "cell_type": "code",
   "execution_count": 1,
   "metadata": {
    "collapsed": false
   },
   "outputs": [
    {
     "name": "stdout",
     "output_type": "stream",
     "text": [
      "0mean1var\n",
      "fit_all_random.ipynb\n",
      "global_null_confirm_same_as_old.ipynb\n",
      "local_FDR_confirm.ipynb\n",
      "small_edgeR-reg-avg-norm-100.txt\n",
      "small_edgeR-reg-randomized-avg-norm-100.txt\n",
      "small_er-reg-cutoff-2-plus-GR-0mean1var-reps-rand.txt\n",
      "small_er-reg-cutoff-2-plus-GR-0mean1var-reps.txt\n",
      "small_er-rep1-2cutoff-0mean-1var-100-rand.txt\n",
      "small_er-rep1-2cutoff-0mean-1var-100.txt\n",
      "small_er-rep2-2cutoff-0mean-1var-100-rand.txt\n",
      "small_er-rep2-2cutoff-0mean-1var-100.txt\n",
      "small_er-rep3-2cutoff-0mean-1var-100-rand.txt\n",
      "small_er-rep3-2cutoff-0mean-1var-100.txt\n",
      "small_er-rep4-2cutoff-0mean-1var-100-rand.txt\n",
      "small_er-rep4-2cutoff-0mean-1var-100.txt\n",
      "test-confirm-old-result-er-norm-ridge-2-g\n",
      "test-local-null-er-norm-lasso-2-l\n",
      "test-new-union-method-er-norm-lasso-2\n",
      "test-new-union-method-er-norm-ridge-2\n"
     ]
    }
   ],
   "source": [
    "%%bash\n",
    "\n",
    "ls"
   ]
  },
  {
   "cell_type": "code",
   "execution_count": 4,
   "metadata": {
    "collapsed": false
   },
   "outputs": [
    {
     "name": "stdout",
     "output_type": "stream",
     "text": [
      "Cause-Effect\tCause\tEffect\tWeight\tAbsWeight\tTest\tLag\tCoef\n",
      "ENSG00000169174.10-ENSG00000126091.18\tENSG00000169174.10\tENSG00000126091.18\t0.0741005679782\t0.0741005679782\tridge\t2\t2\n",
      "ENSG00000116985.9-ENSG00000177868.10\tENSG00000116985.9\tENSG00000177868.10\t-0.0692842585672\t0.0692842585672\tridge\t2\t2\n",
      "ENSG00000183520.10-ENSG00000181817.5\tENSG00000183520.10\tENSG00000181817.5\t-0.0679770619219\t0.0679770619219\tridge\t2\t2\n",
      "ENSG00000157184.5-ENSG00000186603.5\tENSG00000157184.5\tENSG00000186603.5\t-0.0671081414153\t0.0671081414153\tridge\t2\t2\n",
      "ENSG00000126091.18-ENSG00000181817.5\tENSG00000126091.18\tENSG00000181817.5\t-0.0667902803566\t0.0667902803566\tridge\t2\t2\n",
      "ENSG00000126091.18-ENSG00000142669.12\tENSG00000126091.18\tENSG00000142669.12\t-0.0657998084953\t0.0657998084953\tridge\t2\t2\n",
      "ENSG00000126091.18-ENSG00000121900.17\tENSG00000126091.18\tENSG00000121900.17\t-0.061534830037\t0.061534830037\tridge\t2\t2\n",
      "ENSG00000120656.10-ENSG00000116985.9\tENSG00000120656.10\tENSG00000116985.9\t-0.0613295365427\t0.0613295365427\tridge\t2\t2\n",
      "ENSG00000158828.5-ENSG00000142684.7\tENSG00000158828.5\tENSG00000142684.7\t-0.0609961179314\t0.0609961179314\tridge\t2\t2\n"
     ]
    }
   ],
   "source": [
    "%%bash\n",
    "\n",
    "head test-new-union-method-er-norm-ridge-2/test-new-union-method-er-norm-ridge-2-2-network.txt"
   ]
  },
  {
   "cell_type": "code",
   "execution_count": 5,
   "metadata": {
    "collapsed": false
   },
   "outputs": [
    {
     "name": "stdout",
     "output_type": "stream",
     "text": [
      "Cause-Effect\tCause\tEffect\tWeight\tAbsWeight\tTest\tLag\tCoef\n",
      "ENSG00000169174.10-ENSG00000126091.18\tENSG00000169174.10\tENSG00000126091.18\t0.0741005679782\t0.0741005679782\tridge\t2\t2\n",
      "ENSG00000116985.9-ENSG00000177868.10\tENSG00000116985.9\tENSG00000177868.10\t-0.0692842585672\t0.0692842585672\tridge\t2\t2\n",
      "ENSG00000183520.10-ENSG00000181817.5\tENSG00000183520.10\tENSG00000181817.5\t-0.0679770619219\t0.0679770619219\tridge\t2\t2\n",
      "ENSG00000157184.5-ENSG00000186603.5\tENSG00000157184.5\tENSG00000186603.5\t-0.0671081414153\t0.0671081414153\tridge\t2\t2\n",
      "ENSG00000126091.18-ENSG00000181817.5\tENSG00000126091.18\tENSG00000181817.5\t-0.0667902803566\t0.0667902803566\tridge\t2\t2\n",
      "ENSG00000126091.18-ENSG00000142669.12\tENSG00000126091.18\tENSG00000142669.12\t-0.0657998084953\t0.0657998084953\tridge\t2\t2\n",
      "ENSG00000126091.18-ENSG00000121900.17\tENSG00000126091.18\tENSG00000121900.17\t-0.061534830037\t0.061534830037\tridge\t2\t2\n",
      "ENSG00000120656.10-ENSG00000116985.9\tENSG00000120656.10\tENSG00000116985.9\t-0.0613295365427\t0.0613295365427\tridge\t2\t2\n",
      "ENSG00000158828.5-ENSG00000142684.7\tENSG00000158828.5\tENSG00000142684.7\t-0.0609961179314\t0.0609961179314\tridge\t2\t2\n"
     ]
    }
   ],
   "source": [
    "%%bash \n",
    "\n",
    "head test-confirm-old-result-er-norm-ridge-2-g/test-confirm-old-result-er-norm-ridge-2-g-2-network.txt"
   ]
  },
  {
   "cell_type": "code",
   "execution_count": 6,
   "metadata": {
    "collapsed": false
   },
   "outputs": [
    {
     "name": "stdout",
     "output_type": "stream",
     "text": [
      "6870c6870\n",
      "< ENSG00000142627.12-ENSG00000163874.8\tENSG00000142627.12\tENSG00000163874.8\t0.00480921351874\t0.00480921351874\tridge\t2\t2\n",
      "---\n",
      "> ENSG00000142627.12-ENSG00000163874.8\tENSG00000142627.12\tENSG00000163874.8\t0.00480921351875\t0.00480921351875\tridge\t2\t2\n",
      "7553c7553\n",
      "< ENSG00000117318.8-ENSG00000162520.13\tENSG00000117318.8\tENSG00000162520.13\t0.00367933665219\t0.00367933665219\tridge\t2\t2\n",
      "---\n",
      "> ENSG00000117318.8-ENSG00000162520.13\tENSG00000117318.8\tENSG00000162520.13\t0.00367933665218\t0.00367933665218\tridge\t2\t2\n",
      "8595c8595\n",
      "< ENSG00000060656.18-ENSG00000116661.9\tENSG00000060656.18\tENSG00000116661.9\t0.00199994927964\t0.00199994927964\tridge\t2\t2\n",
      "---\n",
      "> ENSG00000060656.18-ENSG00000116661.9\tENSG00000060656.18\tENSG00000116661.9\t0.00199994927965\t0.00199994927965\tridge\t2\t2\n",
      "9307c9307\n",
      "< ENSG00000116237.14-ENSG00000117450.12\tENSG00000116237.14\tENSG00000117450.12\t-0.000912478642003\t0.000912478642003\tridge\t2\t2\n",
      "---\n",
      "> ENSG00000116237.14-ENSG00000117450.12\tENSG00000116237.14\tENSG00000117450.12\t-0.000912478642002\t0.000912478642002\tridge\t2\t2\n",
      "9445c9445\n",
      "< ENSG00000169991.9-ENSG00000053372.4\tENSG00000169991.9\tENSG00000053372.4\t-0.00070961478503\t0.00070961478503\tridge\t2\t2\n",
      "---\n",
      "> ENSG00000169991.9-ENSG00000053372.4\tENSG00000169991.9\tENSG00000053372.4\t-0.000709614785031\t0.000709614785031\tridge\t2\t2\n",
      "9884c9884\n",
      "< ENSG00000126091.18-ENSG00000127129.8\tENSG00000126091.18\tENSG00000127129.8\t-2.83564691255e-05\t2.83564691255e-05\tridge\t2\t2\n",
      "---\n",
      "> ENSG00000126091.18-ENSG00000127129.8\tENSG00000126091.18\tENSG00000127129.8\t-2.83564691254e-05\t2.83564691254e-05\tridge\t2\t2\n",
      "9888c9888\n",
      "< ENSG00000188807.11-ENSG00000158006.12\tENSG00000188807.11\tENSG00000158006.12\t-2.14093343987e-05\t2.14093343987e-05\tridge\t2\t2\n",
      "---\n",
      "> ENSG00000188807.11-ENSG00000158006.12\tENSG00000188807.11\tENSG00000158006.12\t-2.14093343986e-05\t2.14093343986e-05\tridge\t2\t2\n",
      "9893,9894c9893,9894\n",
      "< ENSG00000173846.11-ENSG00000142784.14\tENSG00000173846.11\tENSG00000142784.14\t-1.26362885044e-05\t1.26362885044e-05\tridge\t2\t2\n",
      "< ENSG00000116514.15-ENSG00000163875.14\tENSG00000116514.15\tENSG00000163875.14\t1.15109575518e-05\t1.15109575518e-05\tridge\t2\t2\n",
      "---\n",
      "> ENSG00000173846.11-ENSG00000142784.14\tENSG00000173846.11\tENSG00000142784.14\t-1.26362885045e-05\t1.26362885045e-05\tridge\t2\t2\n",
      "> ENSG00000116514.15-ENSG00000163875.14\tENSG00000116514.15\tENSG00000163875.14\t1.15109575517e-05\t1.15109575517e-05\tridge\t2\t2\n",
      "9896c9896\n",
      "< ENSG00000117859.17-ENSG00000117748.8\tENSG00000117859.17\tENSG00000117748.8\t-9.74311738024e-06\t9.74311738024e-06\tridge\t2\t2\n",
      "---\n",
      "> ENSG00000117859.17-ENSG00000117748.8\tENSG00000117859.17\tENSG00000117748.8\t-9.74311738023e-06\t9.74311738023e-06\tridge\t2\t2\n"
     ]
    }
   ],
   "source": [
    "%%bash\n",
    "\n",
    "diff test-confirm-old-result-er-norm-ridge-2-g/test-confirm-old-result-er-norm-ridge-2-g-2-network.txt test-new-union-method-er-norm-ridge-2/test-new-union-method-er-norm-ridge-2-2-network.txt"
   ]
  },
  {
   "cell_type": "markdown",
   "metadata": {},
   "source": [
    "Looks like the errors are negligible. The problem might be in the parallelization. Let's try with 50."
   ]
  },
  {
   "cell_type": "code",
   "execution_count": 10,
   "metadata": {
    "collapsed": false
   },
   "outputs": [
    {
     "name": "stdout",
     "output_type": "stream",
     "text": [
      "Cause-Effect\tCause\tEffect\tWeight\tAbsWeight\tTest\tLag\tCoef\n",
      "ENSG00000169174.10-ENSG00000126091.18\tENSG00000169174.10\tENSG00000126091.18\t0.0741005679782\t0.0741005679782\tridge\t2\t2\n",
      "ENSG00000116985.9-ENSG00000177868.10\tENSG00000116985.9\tENSG00000177868.10\t-0.0692842585672\t0.0692842585672\tridge\t2\t2\n",
      "ENSG00000183520.10-ENSG00000181817.5\tENSG00000183520.10\tENSG00000181817.5\t-0.0679770619219\t0.0679770619219\tridge\t2\t2\n",
      "ENSG00000157184.5-ENSG00000186603.5\tENSG00000157184.5\tENSG00000186603.5\t-0.0671081414153\t0.0671081414153\tridge\t2\t2\n",
      "ENSG00000126091.18-ENSG00000181817.5\tENSG00000126091.18\tENSG00000181817.5\t-0.0667902803566\t0.0667902803566\tridge\t2\t2\n",
      "ENSG00000126091.18-ENSG00000142669.12\tENSG00000126091.18\tENSG00000142669.12\t-0.0657998084953\t0.0657998084953\tridge\t2\t2\n",
      "ENSG00000126091.18-ENSG00000121900.17\tENSG00000126091.18\tENSG00000121900.17\t-0.061534830037\t0.061534830037\tridge\t2\t2\n",
      "ENSG00000120656.10-ENSG00000116985.9\tENSG00000120656.10\tENSG00000116985.9\t-0.0613295365427\t0.0613295365427\tridge\t2\t2\n",
      "ENSG00000158828.5-ENSG00000142684.7\tENSG00000158828.5\tENSG00000142684.7\t-0.0609961179314\t0.0609961179314\tridge\t2\t2\n"
     ]
    }
   ],
   "source": [
    "%%bash\n",
    "\n",
    "head test-confirm-old-result-parallelize-er-norm-ridge-2-g/test-confirm-old-result-parallelize-er-norm-ridge-2-g-2-network.txt"
   ]
  },
  {
   "cell_type": "code",
   "execution_count": 11,
   "metadata": {
    "collapsed": false
   },
   "outputs": [
    {
     "name": "stdout",
     "output_type": "stream",
     "text": [
      "Cause-Effect\tCause\tEffect\tWeight\tAbsWeight\tTest\tLag\tCoef\n",
      "ENSG00000169174.10-ENSG00000126091.18\tENSG00000169174.10\tENSG00000126091.18\t0.0741005679782\t0.0741005679782\tridge\t2\t2\n",
      "ENSG00000116985.9-ENSG00000177868.10\tENSG00000116985.9\tENSG00000177868.10\t-0.0692842585672\t0.0692842585672\tridge\t2\t2\n",
      "ENSG00000183520.10-ENSG00000181817.5\tENSG00000183520.10\tENSG00000181817.5\t-0.0679770619219\t0.0679770619219\tridge\t2\t2\n",
      "ENSG00000157184.5-ENSG00000186603.5\tENSG00000157184.5\tENSG00000186603.5\t-0.0671081414153\t0.0671081414153\tridge\t2\t2\n",
      "ENSG00000126091.18-ENSG00000181817.5\tENSG00000126091.18\tENSG00000181817.5\t-0.0667902803566\t0.0667902803566\tridge\t2\t2\n",
      "ENSG00000126091.18-ENSG00000142669.12\tENSG00000126091.18\tENSG00000142669.12\t-0.0657998084953\t0.0657998084953\tridge\t2\t2\n",
      "ENSG00000126091.18-ENSG00000121900.17\tENSG00000126091.18\tENSG00000121900.17\t-0.061534830037\t0.061534830037\tridge\t2\t2\n",
      "ENSG00000120656.10-ENSG00000116985.9\tENSG00000120656.10\tENSG00000116985.9\t-0.0613295365427\t0.0613295365427\tridge\t2\t2\n",
      "ENSG00000158828.5-ENSG00000142684.7\tENSG00000158828.5\tENSG00000142684.7\t-0.0609961179314\t0.0609961179314\tridge\t2\t2\n"
     ]
    }
   ],
   "source": [
    "%%bash\n",
    "\n",
    "head test-new-union-method-er-norm-ridge-2/test-new-union-method-er-norm-ridge-2-2-network.txt"
   ]
  },
  {
   "cell_type": "code",
   "execution_count": 12,
   "metadata": {
    "collapsed": false
   },
   "outputs": [
    {
     "name": "stdout",
     "output_type": "stream",
     "text": [
      "6870c6870\n",
      "< ENSG00000142627.12-ENSG00000163874.8\tENSG00000142627.12\tENSG00000163874.8\t0.00480921351875\t0.00480921351875\tridge\t2\t2\n",
      "---\n",
      "> ENSG00000142627.12-ENSG00000163874.8\tENSG00000142627.12\tENSG00000163874.8\t0.00480921351874\t0.00480921351874\tridge\t2\t2\n",
      "7553c7553\n",
      "< ENSG00000117318.8-ENSG00000162520.13\tENSG00000117318.8\tENSG00000162520.13\t0.00367933665218\t0.00367933665218\tridge\t2\t2\n",
      "---\n",
      "> ENSG00000117318.8-ENSG00000162520.13\tENSG00000117318.8\tENSG00000162520.13\t0.00367933665219\t0.00367933665219\tridge\t2\t2\n",
      "8595c8595\n",
      "< ENSG00000060656.18-ENSG00000116661.9\tENSG00000060656.18\tENSG00000116661.9\t0.00199994927965\t0.00199994927965\tridge\t2\t2\n",
      "---\n",
      "> ENSG00000060656.18-ENSG00000116661.9\tENSG00000060656.18\tENSG00000116661.9\t0.00199994927964\t0.00199994927964\tridge\t2\t2\n",
      "9307c9307\n",
      "< ENSG00000116237.14-ENSG00000117450.12\tENSG00000116237.14\tENSG00000117450.12\t-0.000912478642002\t0.000912478642002\tridge\t2\t2\n",
      "---\n",
      "> ENSG00000116237.14-ENSG00000117450.12\tENSG00000116237.14\tENSG00000117450.12\t-0.000912478642003\t0.000912478642003\tridge\t2\t2\n",
      "9445c9445\n",
      "< ENSG00000169991.9-ENSG00000053372.4\tENSG00000169991.9\tENSG00000053372.4\t-0.000709614785031\t0.000709614785031\tridge\t2\t2\n",
      "---\n",
      "> ENSG00000169991.9-ENSG00000053372.4\tENSG00000169991.9\tENSG00000053372.4\t-0.00070961478503\t0.00070961478503\tridge\t2\t2\n",
      "9884c9884\n",
      "< ENSG00000126091.18-ENSG00000127129.8\tENSG00000126091.18\tENSG00000127129.8\t-2.83564691254e-05\t2.83564691254e-05\tridge\t2\t2\n",
      "---\n",
      "> ENSG00000126091.18-ENSG00000127129.8\tENSG00000126091.18\tENSG00000127129.8\t-2.83564691255e-05\t2.83564691255e-05\tridge\t2\t2\n",
      "9888c9888\n",
      "< ENSG00000188807.11-ENSG00000158006.12\tENSG00000188807.11\tENSG00000158006.12\t-2.14093343986e-05\t2.14093343986e-05\tridge\t2\t2\n",
      "---\n",
      "> ENSG00000188807.11-ENSG00000158006.12\tENSG00000188807.11\tENSG00000158006.12\t-2.14093343987e-05\t2.14093343987e-05\tridge\t2\t2\n",
      "9893,9894c9893,9894\n",
      "< ENSG00000173846.11-ENSG00000142784.14\tENSG00000173846.11\tENSG00000142784.14\t-1.26362885045e-05\t1.26362885045e-05\tridge\t2\t2\n",
      "< ENSG00000116514.15-ENSG00000163875.14\tENSG00000116514.15\tENSG00000163875.14\t1.15109575517e-05\t1.15109575517e-05\tridge\t2\t2\n",
      "---\n",
      "> ENSG00000173846.11-ENSG00000142784.14\tENSG00000173846.11\tENSG00000142784.14\t-1.26362885044e-05\t1.26362885044e-05\tridge\t2\t2\n",
      "> ENSG00000116514.15-ENSG00000163875.14\tENSG00000116514.15\tENSG00000163875.14\t1.15109575518e-05\t1.15109575518e-05\tridge\t2\t2\n",
      "9896c9896\n",
      "< ENSG00000117859.17-ENSG00000117748.8\tENSG00000117859.17\tENSG00000117748.8\t-9.74311738023e-06\t9.74311738023e-06\tridge\t2\t2\n",
      "---\n",
      "> ENSG00000117859.17-ENSG00000117748.8\tENSG00000117859.17\tENSG00000117748.8\t-9.74311738024e-06\t9.74311738024e-06\tridge\t2\t2\n"
     ]
    }
   ],
   "source": [
    "%%bash\n",
    "\n",
    "diff test-new-union-method-er-norm-ridge-2/test-new-union-method-er-norm-ridge-2-2-network.txt test-confirm-old-result-parallelize-er-norm-ridge-2-g/test-confirm-old-result-parallelize-er-norm-ridge-2-g-2-network.txt"
   ]
  },
  {
   "cell_type": "markdown",
   "metadata": {},
   "source": [
    "# Parallelization is not the problem. \n",
    "# Since this was designed to reproduce a discrepancy between the old and new runs on della, looks like the copy of the files on the remote server of della might be wrong."
   ]
  },
  {
   "cell_type": "code",
   "execution_count": 14,
   "metadata": {
    "collapsed": false
   },
   "outputs": [
    {
     "name": "stderr",
     "output_type": "stream",
     "text": [
      "ls: 2222: No such file or directory\n",
      "ls: jhlu@127.0.0.1:/tigress/jhlu/cpipeline: No such file or directory\n"
     ]
    }
   ],
   "source": [
    "%%bash\n",
    "ls -P 2222 jhlu@127.0.0.1:/tigress/jhlu/cpipeline"
   ]
  },
  {
   "cell_type": "raw",
   "metadata": {},
   "source": [
    "On della, for ridge 2:\n",
    "wc -l fdr-0.05-none/prot2TPM-0mean1var-reps-er-norm-ridge-2-g-2-fdr-0.05-none-network.txt \n",
    "234401\n",
    "\n",
    "Here, on the previous network: \n",
    "/Users/jlu96/v-causal-snps/data/GeneExpressionData/edgeR-reg-reps-norm/cpipeline/0mean1var/global_null/prot2TPM-0mean1var-reps-er-norm-ridge-2\n",
    "\n",
    "236209 prot2TPM-0mean1var-reps-er-norm-ridge-2-2-fdr-0.05-network.txt\n",
    "\n",
    "???\n"
   ]
  },
  {
   "cell_type": "raw",
   "metadata": {},
   "source": [
    "On new network:\n",
    "\n",
    "head prot2TPM-0mean1var-reps-er-norm-ridge-2-g-2-fdr-0.05-none-network.txt \n",
    "Cause-Effect\tCause\tEffect\tWeight\tAbsWeight\tTest\tLag\tCoef\n",
    "ENSG00000275993.2-ENSG00000163807.5\tENSG00000275993.2\tENSG00000163807.5\t0.0148297078584\t0.0148297078584\tridge\t2\t2\n",
    "ENSG00000187800.12-ENSG00000163807.5\tENSG00000187800.12\tENSG00000163807.5\t-0.0142462222314\t0.0142462222314\tridge\t2\t2\n",
    "ENSG00000177042.13-ENSG00000138448.10\tENSG00000177042.13\tENSG00000138448.10\t-0.0135875299775\t0.0135875299775\tridge\t2\t2\n",
    "ENSG00000187800.12-ENSG00000253719.3\tENSG00000187800.12\tENSG00000253719.3\t-0.0135088872445\t0.0135088872445\tridge\t2\t2\n",
    "ENSG00000267680.4-ENSG00000169174.10\tENSG00000267680.4\tENSG00000169174.10\t0.0134205425046\t0.0134205425046\tridge\t2\t2\n",
    "ENSG00000171604.10-ENSG00000160325.13\tENSG00000171604.10\tENSG00000160325.13\t-0.0129967335395\t0.0129967335395\tridge\t2\t2\n",
    "ENSG00000253250.2-ENSG00000164096.12\tENSG00000253250.2\tENSG00000164096.12\t0.0128664846621\t0.0128664846621\tridge\t2\t2\n",
    "ENSG00000170190.14-ENSG00000108559.10\tENSG00000170190.14\tENSG00000108559.10\t-0.0128393938797\t0.0128393938797\tridge\t2\t2\n",
    "ENSG00000169604.18-ENSG00000183779.6\tENSG00000169604.18\tENSG00000183779.6\t-0.0125121819813\t0.0125121819813\tridge\t2\t2"
   ]
  },
  {
   "cell_type": "raw",
   "metadata": {},
   "source": [
    "On prev network:\n",
    "\n",
    "\n",
    "head prot2TPM-0mean1var-reps-er-norm-ridge-2-2-fdr-0.05-network.txt \n",
    "Cause-Effect\tCause\tEffect\tWeight\tAbsWeight\tTest\tLag\tCoef\n",
    "ENSG00000275993.2-ENSG00000163807.5\tENSG00000275993.2\tENSG00000163807.5\t0.0148297078584\t0.0148297078584\tridge\t2\t2\n",
    "ENSG00000143320.7-ENSG00000163807.5\tENSG00000143320.7\tENSG00000163807.5\t-0.0142462222314\t0.0142462222314\tridge\t2\t2\n",
    "ENSG00000177042.13-ENSG00000138448.10\tENSG00000177042.13\tENSG00000138448.10\t-0.0135875299775\t0.0135875299775\tridge\t2\t2\n",
    "ENSG00000143320.7-ENSG00000253719.3\tENSG00000143320.7\tENSG00000253719.3\t-0.0135088872445\t0.0135088872445\tridge\t2\t2\n",
    "ENSG00000267680.4-ENSG00000169174.10\tENSG00000267680.4\tENSG00000169174.10\t0.0134205425046\t0.0134205425046\tridge\t2\t2\n",
    "ENSG00000170482.15-ENSG00000160325.13\tENSG00000170482.15\tENSG00000160325.13\t-0.0129967335395\t0.0129967335395\tridge\t2\t2\n",
    "ENSG00000253250.2-ENSG00000164096.12\tENSG00000253250.2\tENSG00000164096.12\t0.0128664846621\t0.0128664846621\tridge\t2\t2\n",
    "ENSG00000170190.14-ENSG00000108559.10\tENSG00000170190.14\tENSG00000108559.10\t-0.0128393938797\t0.0128393938797\tridge\t2\t2\n",
    "ENSG00000183607.8-ENSG00000183779.6\tENSG00000183607.8\tENSG00000183779.6\t-0.0125121819813\t0.0125121819813\tridge\t2\t2\n"
   ]
  },
  {
   "cell_type": "raw",
   "metadata": {},
   "source": [
    "Comparison:\n",
    "\n",
    "Prev:\n",
    "\n",
    "ENSG00000187800.12-ENSG00000253719.3\tENSG00000187800.12\tENSG00000253719.3\t-0.0135088872445\t0.0135088872445\tridge\t2\t2\n",
    "\n",
    "New:\n",
    "\n",
    "ENSG00000143320.7-ENSG00000253719.3\tENSG00000143320.7\tENSG00000253719.3\t-0.0135088872445\t0.0135088872445\tridge\t2\t2"
   ]
  },
  {
   "cell_type": "markdown",
   "metadata": {},
   "source": [
    "There appears to be an off-by-one error.\n",
    "\n",
    "Possibilites:\n",
    "* The alignment isn't being performed correctly. The coefs as they come out of fit_all are wrong.\n",
    "* The error is wrong.\n",
    "\n",
    "Let's check if coefs are still wrong in the case here."
   ]
  },
  {
   "cell_type": "code",
   "execution_count": 17,
   "metadata": {
    "collapsed": false
   },
   "outputs": [],
   "source": [
    "import pickle\n",
    "\n",
    "a = pickle.load(open(\"test-new-union-method-er-norm-ridge-2/fit/test-new-union-method-er-norm-ridge-2_coefs.p\", 'rU'))\n",
    "b = pickle.load(open(\"test-confirm-old-result-parallelize-er-norm-ridge-2-g/fit/test-confirm-old-result-parallelize-er-norm-ridge-2-g_coefs.p\", 'rU'))"
   ]
  },
  {
   "cell_type": "markdown",
   "metadata": {},
   "source": [
    "Once done checking the coefs, check alignment. Confirm indeed off-by-one error!\n",
    "It's possible we still have same network and mis-alignment since the network edges are small and probably in the bottom half."
   ]
  },
  {
   "cell_type": "code",
   "execution_count": 25,
   "metadata": {
    "collapsed": false
   },
   "outputs": [
    {
     "name": "stdout",
     "output_type": "stream",
     "text": [
      "(200, 100)\n",
      "[[ -3.43115703e-02   8.83234298e-03  -4.21303015e-03   1.53277050e-03\n",
      "    1.65189426e-02]\n",
      " [ -2.56841108e-02  -5.84682421e-03  -1.37984636e-03   1.08454586e-02\n",
      "    1.82266654e-02]\n",
      " [  2.73393903e-03   1.25295412e-04  -5.94719974e-05  -1.47368189e-02\n",
      "    1.27575652e-02]\n",
      " [ -3.97070448e-02  -7.52038562e-03   7.56026793e-03  -1.43627022e-02\n",
      "   -1.59986342e-02]\n",
      " [ -1.15567293e-02   4.53212516e-03   1.44878420e-02   3.24700918e-03\n",
      "    1.46073720e-02]]\n"
     ]
    }
   ],
   "source": [
    "print a.shape\n",
    "print a[0:5, 0:5]"
   ]
  },
  {
   "cell_type": "code",
   "execution_count": 26,
   "metadata": {
    "collapsed": false
   },
   "outputs": [
    {
     "name": "stdout",
     "output_type": "stream",
     "text": [
      "(200, 100)\n",
      "[[ -3.43115703e-02  -5.84682421e-03  -1.37984636e-03   1.08454586e-02\n",
      "    1.82266654e-02]\n",
      " [ -2.56841108e-02   8.83234298e-03  -5.94719974e-05  -1.47368189e-02\n",
      "    1.27575652e-02]\n",
      " [  2.73393903e-03   1.25295412e-04  -4.21303015e-03  -1.43627022e-02\n",
      "   -1.59986342e-02]\n",
      " [ -3.97070448e-02  -7.52038562e-03   7.56026793e-03   1.53277050e-03\n",
      "    1.46073720e-02]\n",
      " [ -1.15567293e-02   4.53212516e-03   1.44878420e-02   3.24700918e-03\n",
      "    1.65189426e-02]]\n"
     ]
    }
   ],
   "source": [
    "print b.shape\n",
    "print b[0:5, 0:5]"
   ]
  },
  {
   "cell_type": "code",
   "execution_count": 27,
   "metadata": {
    "collapsed": false
   },
   "outputs": [
    {
     "name": "stdout",
     "output_type": "stream",
     "text": [
      "[[ -1.06360609e-02  -1.96695088e-02  -4.68692578e-02  -5.47865605e-03\n",
      "   -1.06333739e-03]\n",
      " [ -2.63131397e-03   3.57353486e-02   1.90486974e-02  -2.81148330e-02\n",
      "    5.70105961e-03]\n",
      " [  1.65021617e-02  -3.08021885e-02  -3.61833887e-02   3.87496759e-03\n",
      "   -2.14451783e-02]\n",
      " [ -2.86518935e-02   1.17001416e-03   1.93108362e-02   2.04770622e-02\n",
      "   -2.74118755e-02]\n",
      " [ -1.21136777e-02   1.85162135e-02   2.15315202e-02  -1.82983637e-05\n",
      "    4.07881036e-05]]\n"
     ]
    }
   ],
   "source": [
    "# check the later coefs.\n",
    "print a[100:105, 0:5]"
   ]
  },
  {
   "cell_type": "code",
   "execution_count": 28,
   "metadata": {
    "collapsed": false
   },
   "outputs": [
    {
     "name": "stdout",
     "output_type": "stream",
     "text": [
      "[[ -1.06360609e-02   3.57353486e-02   1.90486974e-02  -2.81148330e-02\n",
      "    5.70105961e-03]\n",
      " [ -2.63131397e-03  -1.96695088e-02  -3.61833887e-02   3.87496759e-03\n",
      "   -2.14451783e-02]\n",
      " [  1.65021617e-02  -3.08021885e-02  -4.68692578e-02   2.04770622e-02\n",
      "   -2.74118755e-02]\n",
      " [ -2.86518935e-02   1.17001416e-03   1.93108362e-02  -5.47865605e-03\n",
      "    4.07881036e-05]\n",
      " [ -1.21136777e-02   1.85162135e-02   2.15315202e-02  -1.82983637e-05\n",
      "   -1.06333739e-03]]\n"
     ]
    }
   ],
   "source": [
    "print b[100:105, 0:5]"
   ]
  },
  {
   "cell_type": "markdown",
   "metadata": {},
   "source": [
    "This is doing what it should: the coefficients are being rearranged the right way\n",
    "\n",
    "It looks like the alignment is indeed being performed for a but not b. So b seems to keep the coefficients at the right place."
   ]
  },
  {
   "cell_type": "code",
   "execution_count": 30,
   "metadata": {
    "collapsed": true
   },
   "outputs": [],
   "source": [
    "import numpy as np\n",
    "def old_align_coefs(coefs, lag, verbose=False):\n",
    "    \"\"\"\n",
    "    coefs: n* lag x n. the i * lagth row of col k is the auto-coefficient of k on k\n",
    "\n",
    "\n",
    "    # align the coefs:\n",
    "    # 1) split into same lag\n",
    "    # 2) For each lag: for out gene k, take the first coef and move to position k\n",
    "\n",
    "    return: lag x n x n. the i * lagth row is no longer the same as the response\n",
    "    \"\"\"\n",
    "\n",
    "    n = coefs.shape[1]\n",
    "\n",
    "    coef_list = np.split(coefs, lag)\n",
    "\n",
    "    out_coef = np.zeros((lag, n, n))\n",
    "\n",
    "    for i in range(len(coef_list)):\n",
    "        coef = coef_list[i]\n",
    "\n",
    "\n",
    "        new_coefs = np.zeros(coef.shape)\n",
    "\n",
    "        for j in range(coef.shape[0]):\n",
    "            # For the jth row, the autocorrelation goes into the jth index\n",
    "            insert_coef = coef[0, j]\n",
    "            other_coef = coef[1:, j]\n",
    "\n",
    "\n",
    "\n",
    "            new_coef = np.insert(other_coef, j, insert_coef)\n",
    "\n",
    "            if verbose:\n",
    "                print \"Where to insert: \", j\n",
    "                print \"Insert coef: \", insert_coef\n",
    "                print \"Old coef: \", other_coef\n",
    "                print \"New coef: \", new_coef\n",
    "\n",
    "            new_coefs[:, j] = new_coef\n",
    "\n",
    "\n",
    "        out_coef[i, :, :] = new_coefs\n",
    "\n",
    "    return out_coef"
   ]
  },
  {
   "cell_type": "code",
   "execution_count": 42,
   "metadata": {
    "collapsed": false
   },
   "outputs": [],
   "source": [
    "import lag_conversion as lc\n",
    "\n",
    "lag = 2 \n",
    "a_aligned = old_align_coefs(a, 2)\n",
    "b_aligned = lc.align_coefs(b, 2)"
   ]
  },
  {
   "cell_type": "code",
   "execution_count": 43,
   "metadata": {
    "collapsed": false
   },
   "outputs": [
    {
     "name": "stdout",
     "output_type": "stream",
     "text": [
      "(2, 100, 100)\n",
      "[[ -3.43115703e-02  -5.84682421e-03  -1.37984636e-03   1.08454586e-02\n",
      "    1.82266654e-02]\n",
      " [ -2.56841108e-02   8.83234298e-03  -5.94719974e-05  -1.47368189e-02\n",
      "    1.27575652e-02]\n",
      " [  2.73393903e-03   1.25295412e-04  -4.21303015e-03  -1.43627022e-02\n",
      "   -1.59986342e-02]\n",
      " [ -3.97070448e-02  -7.52038562e-03   7.56026793e-03   1.53277050e-03\n",
      "    1.46073720e-02]\n",
      " [ -1.15567293e-02   4.53212516e-03   1.44878420e-02   3.24700918e-03\n",
      "    1.65189426e-02]]\n"
     ]
    }
   ],
   "source": [
    "print a_aligned.shape\n",
    "\n",
    "print a_aligned[0, 0:5, 0:5]"
   ]
  },
  {
   "cell_type": "code",
   "execution_count": 44,
   "metadata": {
    "collapsed": false
   },
   "outputs": [
    {
     "name": "stdout",
     "output_type": "stream",
     "text": [
      "(2, 100, 100)\n",
      "[[ -3.43115703e-02  -5.84682421e-03  -1.37984636e-03   1.08454586e-02\n",
      "    1.82266654e-02]\n",
      " [ -2.56841108e-02   8.83234298e-03  -5.94719974e-05  -1.47368189e-02\n",
      "    1.27575652e-02]\n",
      " [  2.73393903e-03   1.25295412e-04  -4.21303015e-03  -1.43627022e-02\n",
      "   -1.59986342e-02]\n",
      " [ -3.97070448e-02  -7.52038562e-03   7.56026793e-03   1.53277050e-03\n",
      "    1.46073720e-02]\n",
      " [ -1.15567293e-02   4.53212516e-03   1.44878420e-02   3.24700918e-03\n",
      "    1.65189426e-02]]\n",
      "[[ -3.43115703e-02  -5.84682421e-03  -1.37984636e-03   1.08454586e-02\n",
      "    1.82266654e-02]\n",
      " [ -2.56841108e-02   8.83234298e-03  -5.94719974e-05  -1.47368189e-02\n",
      "    1.27575652e-02]\n",
      " [  2.73393903e-03   1.25295412e-04  -4.21303015e-03  -1.43627022e-02\n",
      "   -1.59986342e-02]\n",
      " [ -3.97070448e-02  -7.52038562e-03   7.56026793e-03   1.53277050e-03\n",
      "    1.46073720e-02]\n",
      " [ -1.15567293e-02   4.53212516e-03   1.44878420e-02   3.24700918e-03\n",
      "    1.65189426e-02]]\n"
     ]
    }
   ],
   "source": [
    "print b_aligned.shape\n",
    "\n",
    "print b_aligned[0, 0:5, 0:5]\n",
    "print b[0:5, 0:5]"
   ]
  },
  {
   "cell_type": "markdown",
   "metadata": {},
   "source": [
    "Odd! It's aligning correctly now!\n",
    "What could account for the difference?\n",
    "\n",
    "Let's check the alignment for the second half."
   ]
  },
  {
   "cell_type": "code",
   "execution_count": 49,
   "metadata": {
    "collapsed": false
   },
   "outputs": [
    {
     "name": "stdout",
     "output_type": "stream",
     "text": [
      "(2, 100, 100)\n",
      "[[ -1.06360609e-02   3.57353486e-02   1.90486974e-02  -2.81148330e-02\n",
      "    5.70105961e-03]\n",
      " [ -2.63131397e-03  -1.96695088e-02  -3.61833887e-02   3.87496759e-03\n",
      "   -2.14451783e-02]\n",
      " [  1.65021617e-02  -3.08021885e-02  -4.68692578e-02   2.04770622e-02\n",
      "   -2.74118755e-02]\n",
      " [ -2.86518935e-02   1.17001416e-03   1.93108362e-02  -5.47865605e-03\n",
      "    4.07881036e-05]\n",
      " [ -1.21136777e-02   1.85162135e-02   2.15315202e-02  -1.82983637e-05\n",
      "   -1.06333739e-03]]\n"
     ]
    }
   ],
   "source": [
    "print a_aligned.shape\n",
    "\n",
    "print a_aligned[1, 0:5, 0:5]"
   ]
  },
  {
   "cell_type": "code",
   "execution_count": 50,
   "metadata": {
    "collapsed": false
   },
   "outputs": [
    {
     "name": "stdout",
     "output_type": "stream",
     "text": [
      "(2, 100, 100)\n",
      "[[ -1.06360609e-02   3.57353486e-02   1.90486974e-02  -2.81148330e-02\n",
      "    5.70105961e-03]\n",
      " [ -2.63131397e-03  -1.96695088e-02  -3.61833887e-02   3.87496759e-03\n",
      "   -2.14451783e-02]\n",
      " [  1.65021617e-02  -3.08021885e-02  -4.68692578e-02   2.04770622e-02\n",
      "   -2.74118755e-02]\n",
      " [ -2.86518935e-02   1.17001416e-03   1.93108362e-02  -5.47865605e-03\n",
      "    4.07881036e-05]\n",
      " [ -1.21136777e-02   1.85162135e-02   2.15315202e-02  -1.82983637e-05\n",
      "   -1.06333739e-03]]\n",
      "[[ -1.06360609e-02   3.57353486e-02   1.90486974e-02  -2.81148330e-02\n",
      "    5.70105961e-03]\n",
      " [ -2.63131397e-03  -1.96695088e-02  -3.61833887e-02   3.87496759e-03\n",
      "   -2.14451783e-02]\n",
      " [  1.65021617e-02  -3.08021885e-02  -4.68692578e-02   2.04770622e-02\n",
      "   -2.74118755e-02]\n",
      " [ -2.86518935e-02   1.17001416e-03   1.93108362e-02  -5.47865605e-03\n",
      "    4.07881036e-05]\n",
      " [ -1.21136777e-02   1.85162135e-02   2.15315202e-02  -1.82983637e-05\n",
      "   -1.06333739e-03]]\n"
     ]
    }
   ],
   "source": [
    "print b_aligned.shape\n",
    "\n",
    "print b_aligned[1, 0:5, 0:5]\n",
    "print b[100:105, 0:5]"
   ]
  },
  {
   "cell_type": "code",
   "execution_count": 51,
   "metadata": {
    "collapsed": false
   },
   "outputs": [
    {
     "name": "stdout",
     "output_type": "stream",
     "text": [
      "a_aligned and b_aligned are the same False\n",
      "b and b_aligned are the same True\n"
     ]
    }
   ],
   "source": [
    "print \"a_aligned and b_aligned are the same\", (a_aligned == b_aligned).all()\n",
    "print \"b and b_aligned are the same\", (b[100:,:] == b_aligned[1, :,:]).all()"
   ]
  },
  {
   "cell_type": "code",
   "execution_count": 54,
   "metadata": {
    "collapsed": false
   },
   "outputs": [
    {
     "name": "stdout",
     "output_type": "stream",
     "text": [
      "17734\n"
     ]
    }
   ],
   "source": [
    "print len(np.where(a_aligned != b_aligned)[2])"
   ]
  },
  {
   "cell_type": "code",
   "execution_count": 56,
   "metadata": {
    "collapsed": false
   },
   "outputs": [
    {
     "name": "stdout",
     "output_type": "stream",
     "text": [
      "True\n"
     ]
    }
   ],
   "source": [
    "print (abs(a_aligned - b_aligned) < 1e-7).all()"
   ]
  },
  {
   "cell_type": "raw",
   "metadata": {},
   "source": [
    "Okay, they're basically the same.\n",
    "So now to confirm the off-by-one error in the enet coef. Time to SCP that over."
   ]
  },
  {
   "cell_type": "raw",
   "metadata": {},
   "source": [
    "Sanity check of enet-2-2\n",
    "\n",
    "From old global:\n",
    "    \n",
    "ENSG00000213676.9-ENSG00000151892.13\tENSG00000213676.9\tENSG00000151892.13\t-0.0817475984048\t0.0817475984048\tenet\t2\t2\n",
    "ENSG00000170190.14-ENSG00000243566.5\tENSG00000170190.14\tENSG00000243566.5\t-0.081695796268\t0.081695796268\tenet\t2\t2\n",
    "ENSG00000124575.6-ENSG00000103043.13\tENSG00000124575.6\tENSG00000103043.13\t-0.0816845688194\t0.0816845688194\tenet\t2\t2\n",
    "ENSG00000188786.9-ENSG00000111266.7\tENSG00000188786.9\tENSG00000111266.7\t0.0816712064266\t0.0816712064266\tenet\t2\t2\n",
    "ENSG00000147894.13-ENSG00000097021.18\tENSG00000147894.13\tENSG00000097021.18\t0.081631362572\t0.081631362572\tenet\t2\t2\n",
    "ENSG00000275993.2-ENSG00000161010.13\tENSG00000275993.2\tENSG00000161010.13\t-0.0816152282797\t0.0816152282797\tenet\t2\t2\n",
    "ENSG00000143320.7-ENSG00000123975.4\tENSG00000143320.7\tENSG00000123975.4\t-0.0816069790892\t0.0816069790892\tenet\t2\t2\n",
    "ENSG00000065029.13-ENSG00000164039.13\tENSG00000065029.13\tENSG00000164039.13\t0.0815398895478\t0.0815398895478\tenet\t2\t2\n",
    "ENSG00000170190.14-ENSG00000185189.14\tENSG00000170190.14\tENSG00000185189.14\t0.0815287625348\t0.0815287625348\tenet\t2\t2\n",
    "ENSG00000164039.13-ENSG00000116661.9\tENSG00000164039.13\tENSG00000116661.9\t0.0815205487646\t0.0815205487646\tenet\t2\t2"
   ]
  },
  {
   "cell_type": "raw",
   "metadata": {},
   "source": [
    "From new global:\n",
    "\n",
    "ENSG00000124575.6-ENSG00000103043.13\tENSG00000124575.6\tENSG00000103043.13\t-0.081685117063\t0.081685117063\tenet\t2\t2\n",
    "ENSG00000167136.6-ENSG00000010017.12\tENSG00000167136.6\tENSG00000010017.12\t-0.0816821030925\t0.0816821030925\tene2\n",
    "ENSG00000188786.9-ENSG00000111266.7\tENSG00000188786.9\tENSG00000111266.7\t0.0816700985029\t0.0816700985029\tenet\t2\t2\n",
    "ENSG00000147894.13-ENSG00000097021.18\tENSG00000147894.13\tENSG00000097021.18\t0.0816293861231\t0.0816293861231\tenet\t2\t2\n",
    "ENSG00000275993.2-ENSG00000161010.13\tENSG00000275993.2\tENSG00000161010.13\t-0.0816152792891\t0.0816152792891\tene2\n",
    "ENSG00000143320.7-ENSG00000123975.4\tENSG00000143320.7\tENSG00000123975.4\t-0.0816058579891\t0.0816058579891\tene2\n",
    "ENSG00000065029.13-ENSG00000164039.13\tENSG00000065029.13\tENSG00000164039.13\t0.0815336838175\t0.0815336838175\tenet\t2\t2\n",
    "ENSG00000170190.14-ENSG00000185189.14\tENSG00000170190.14\tENSG00000185189.14\t0.0815272443661\t0.0815272443661\tenet\t2\t2\n",
    "ENSG00000164039.13-ENSG00000116661.9\tENSG00000164039.13\tENSG00000116661.9\t0.0815209913592\t0.0815209913592\tenet\t2\t2\n",
    "ENSG00000167136.6-ENSG00000103121.7\tENSG00000167136.6\tENSG00000103121.7\t-0.0814456869564\t0.0814456869564\tene2"
   ]
  },
  {
   "cell_type": "raw",
   "metadata": {},
   "source": [
    "Old:\n",
    "ENSG00000188786.9-ENSG00000111266.7\tENSG00000188786.9\tENSG00000111266.7\t0.0816712064266\t0.0816712064266\tenet\t2\t2\n",
    "\n",
    "New:\n",
    "\n",
    "ENSG00000188786.9-ENSG00000111266.7\tENSG00000188786.9\tENSG00000111266.7\t0.0816700985029\t0.0816700985029\tenet\t2\t2"
   ]
  },
  {
   "cell_type": "raw",
   "metadata": {},
   "source": [
    "Generally the same. I think we fixed the align coefs successfully :)\n",
    "\n",
    "             Old | New\n",
    "Enet 2-1   | 912 | 911\n",
    "Enet 2-2   | 586 | 585\n",
    "\n",
    "ENet 1     | 245 | 170.\n",
    "Threshold  | 1.3e-1 | 1.4e-1\n",
    "\n",
    "Lasso 1    | 911 | 841\n",
    "Threshold  | 2.8e-1 | 2.9 e-1\n",
    "\n",
    "Lasso 2-1  | 9   | 9    \n",
    "Lasso 2-2  | 0   | 0\n",
    "\n",
    "Ridge 1-1  | 502440 | 489999\n",
    "Threshold  | 6.4e-3 | 6.5 e-3\n",
    "\n",
    "Ridge 2-1  | 268211 | 260261\n",
    "Ridge 2-2  | 236208 | 234400\n",
    "\n",
    "Decently close, although the new fit is slightly more conservative. Ignore?"
   ]
  },
  {
   "cell_type": "raw",
   "metadata": {},
   "source": [
    "For enet1\n",
    "\n",
    "Old:\n",
    "ENSG00000185522.7-ENSG00000179913.9\tENSG00000185522.7\tENSG00000179913.9\t-0.205116825255\t0.205116825255\tenet\t1\t1\n",
    "ENSG00000124575.6-ENSG00000183779.6\tENSG00000124575.6\tENSG00000183779.6\t0.20269464398\t0.20269464398\tenet\t1\t1\n",
    "ENSG00000157326.17-ENSG00000166086.11\tENSG00000157326.17\tENSG00000166086.11\t-0.199686208425\t0.199686208425\tenet\t1\t1\n",
    "ENSG00000163348.3-ENSG00000161395.11\tENSG00000163348.3\tENSG00000161395.11\t-0.195873713385\t0.195873713385\tenet\t1\t1\n",
    "ENSG00000134899.16-ENSG00000147475.13\tENSG00000134899.16\tENSG00000147475.13\t0.192200335245\t0.192200335245\tenet\t1\t1\n",
    "ENSG00000065029.13-ENSG00000170458.12\tENSG00000065029.13\tENSG00000170458.12\t0.182479517328\t0.182479517328\tenet\t1\t1\n",
    "ENSG00000163348.3-ENSG00000112319.16\tENSG00000163348.3\tENSG00000112319.16\t0.182003895242\t0.182003895242\tenet\t1\t1\n",
    "ENSG00000169174.10-ENSG00000170468.7\tENSG00000169174.10\tENSG00000170468.7\t-0.180518231736\t0.180518231736\tenet\t1\t1\n",
    "ENSG00000178467.16-ENSG00000166169.15\tENSG00000178467.16\tENSG00000166169.15\t0.176126167101\t0.176126167101\tenet\t1\t1\n",
    "\n",
    "\n",
    "\n",
    "New:\n",
    "\n",
    "ENSG00000185522.7-ENSG00000179913.9\tENSG00000185522.7\tENSG00000179913.9\t-0.205112889749\t0.205112889749\tenet\t1\t1\n",
    "ENSG00000124575.6-ENSG00000183779.6\tENSG00000124575.6\tENSG00000183779.6\t0.201082853008\t0.201082853008\tenet\t1\t1\n",
    "ENSG00000157326.17-ENSG00000166086.11\tENSG00000157326.17\tENSG00000166086.11\t-0.199237119711\t0.199237119711\tenet\t1\t1\n",
    "ENSG00000163348.3-ENSG00000161395.11\tENSG00000163348.3\tENSG00000161395.11\t-0.195870818088\t0.195870818088\tenet\t1\t1\n",
    "ENSG00000134899.16-ENSG00000147475.13\tENSG00000134899.16\tENSG00000147475.13\t0.192299485979\t0.192299485979\tenet\t1\t1\n",
    "ENSG00000065029.13-ENSG00000170458.12\tENSG00000065029.13\tENSG00000170458.12\t0.182236328102\t0.182236328102\tenet\t1\t1\n",
    "ENSG00000163348.3-ENSG00000112319.16\tENSG00000163348.3\tENSG00000112319.16\t0.181998946207\t0.181998946207\tenet\t1\t1\n",
    "ENSG00000169174.10-ENSG00000170468.7\tENSG00000169174.10\tENSG00000170468.7\t-0.18056851817\t0.18056851817\tenet\t1\t1\n",
    "ENSG00000178467.16-ENSG00000166169.15\tENSG00000178467.16\tENSG00000166169.15\t0.176125146559\t0.176125146559\tenet\t1\t1\n",
    "\n"
   ]
  },
  {
   "cell_type": "raw",
   "metadata": {},
   "source": [
    "Old:\n",
    "\n",
    "ENSG00000157326.17-ENSG00000128016.5    ENSG00000157326.17      ENSG00000128016.5       0.14596415395   0.14596415395   enet    1\n",
    "       1\n",
    "ENSG00000166407.12-ENSG00000185522.7    ENSG00000166407.12      ENSG00000185522.7       -0.14592845783  0.14592845783   enet    1\n",
    "       1\n",
    "ENSG00000116985.9-ENSG00000179981.9     ENSG00000116985.9       ENSG00000179981.9       0.145894880652  0.145894880652  enet    1\n",
    "       1\n",
    "ENSG00000146776.13-ENSG00000118960.11   ENSG00000146776.13      ENSG00000118960.11      0.145849883767  0.145849883767  enet    1\n",
    "       1\n",
    "ENSG00000126249.6-ENSG00000109920.11    ENSG00000126249.6       ENSG00000109920.11      -0.14575306068  0.14575306068   enet    1\n",
    "       1\n",
    "ENSG00000229809.7-ENSG00000141580.14    ENSG00000229809.7       ENSG00000141580.14      -0.145648844274 0.145648844274  enet    1\n",
    "       1\n",
    "ENSG00000180376.15-ENSG00000146776.13   ENSG00000180376.15      ENSG00000146776.13      -0.145561045463 0.145561045463  enet    1\n",
    "       1\n",
    "ENSG00000179913.9-ENSG00000139438.5     ENSG00000179913.9       ENSG00000139438.5       -0.145534251578 0.145534251578  enet    1\n",
    "       1\n",
    "\n",
    "\n",
    "New:\n",
    "\n",
    "ENSG00000157326.17-ENSG00000128016.5\tENSG00000157326.17\tENSG00000128016.5\t0.146100997741\t0.146100997741\tenet\t1\t1\n",
    "ENSG00000166407.12-ENSG00000185522.7\tENSG00000166407.12\tENSG00000185522.7\t-0.145915084543\t0.145915084543\tenet\t1\t1\n",
    "ENSG00000126249.6-ENSG00000109920.11\tENSG00000126249.6\tENSG00000109920.11\t-0.145755653718\t0.145755653718\tenet\t1\t1\n",
    "ENSG00000229809.7-ENSG00000141580.14\tENSG00000229809.7\tENSG00000141580.14\t-0.145592400886\t0.145592400886\tenet\t1\t1\n",
    "ENSG00000180376.15-ENSG00000146776.13\tENSG00000180376.15\tENSG00000146776.13\t-0.145587893893\t0.145587893893\tenet\t1\t1\n",
    "ENSG00000179913.9-ENSG00000139438.5\tENSG00000179913.9\tENSG00000139438.5\t-0.145536394807\t0.145536394807\tenet\t1\t1\n"
   ]
  },
  {
   "cell_type": "markdown",
   "metadata": {},
   "source": [
    "# 2/8/17:\n",
    "\n",
    "Sanity check for 0mean, unnormalized"
   ]
  },
  {
   "cell_type": "raw",
   "metadata": {},
   "source": [
    "Old:\n",
    "\n",
    "1469 prot2TPM-0mean-reps-er-norm-enet-1/fdr-0.05/prot2TPM-0mean-reps-er-norm-enet-1-union-fdr-0.05-network.txt\n",
    "prot2TPM-0mean-reps-er-norm-enet-1\n",
    "      42 prot2TPM-0mean-reps-er-norm-enet-2/fdr-0.05/prot2TPM-0mean-reps-er-norm-enet-2-union-fdr-0.05-network.txt\n",
    "prot2TPM-0mean-reps-er-norm-enet-2\n",
    "   13070 prot2TPM-0mean-reps-er-norm-lasso-1/fdr-0.05/prot2TPM-0mean-reps-er-norm-lasso-1-union-fdr-0.05-network.txt\n",
    "prot2TPM-0mean-reps-er-norm-lasso-1\n",
    "     296 prot2TPM-0mean-reps-er-norm-lasso-2/fdr-0.05/prot2TPM-0mean-reps-er-norm-lasso-2-union-fdr-0.05-network.txt\n",
    "prot2TPM-0mean-reps-er-norm-lasso-2\n",
    "      83 prot2TPM-0mean-reps-er-norm-ridge-1/fdr-0.05/prot2TPM-0mean-reps-er-norm-ridge-1-union-fdr-0.05-network.txt\n",
    "prot2TPM-0mean-reps-er-norm-ridge-1\n",
    "      44 prot2TPM-0mean-reps-er-norm-ridge-2/fdr-0.05/prot2TPM-0mean-reps-er-norm-ridge-2-union-fdr-0.05-network.txt\n",
    "prot2TPM-0mean-reps-er-norm-ridge-2\n",
    "\n",
    "\n",
    "\n",
    "\n",
    "New:\n",
    "\n",
    "[jhlu@della4 0mean-unnormalized_g-null_g-fdr]$ wc -l *\n",
    "   1480 prot2TPM-er-reps_0mean-unnormalized_g-null_g-fdr-0.05_enet-1-union-network.txt\n",
    "     42 prot2TPM-er-reps_0mean-unnormalized_g-null_g-fdr-0.05_enet-2-union-network.txt\n",
    "  12172 prot2TPM-er-reps_0mean-unnormalized_g-null_g-fdr-0.05_lasso-1-union-network.txt\n",
    "    296 prot2TPM-er-reps_0mean-unnormalized_g-null_g-fdr-0.05_lasso-2-union-network.txt\n",
    "     83 prot2TPM-er-reps_0mean-unnormalized_g-null_g-fdr-0.05_ridge-1-union-network.txt\n",
    "     44 prot2TPM-er-reps_0mean-unnormalized_g-null_g-fdr-0.05_ridge-2-union-network.txt\n",
    "\n",
    "\n",
    "\n",
    "Just need to redo enet 1, lasso 1."
   ]
  }
 ],
 "metadata": {
  "kernelspec": {
   "display_name": "Python 2",
   "language": "python",
   "name": "python2"
  },
  "language_info": {
   "codemirror_mode": {
    "name": "ipython",
    "version": 2
   },
   "file_extension": ".py",
   "mimetype": "text/x-python",
   "name": "python",
   "nbconvert_exporter": "python",
   "pygments_lexer": "ipython2",
   "version": "2.7.10"
  }
 },
 "nbformat": 4,
 "nbformat_minor": 0
}
