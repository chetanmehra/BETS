{
 "cells": [
  {
   "cell_type": "code",
   "execution_count": 6,
   "metadata": {
    "collapsed": false
   },
   "outputs": [
    {
     "name": "stdout",
     "output_type": "stream",
     "text": [
      "Hyper list is \n",
      "[9.9999999999999995e-07, 1.0000000000000001e-05, 0.0001, 0.001, 0.01, 0.10000000000000001, 1.0]\n",
      "Dumped to  hyperlist_lasso.p\n",
      "Loading: \n"
     ]
    },
    {
     "data": {
      "text/plain": [
       "[9.9999999999999995e-07,\n",
       " 1.0000000000000001e-05,\n",
       " 0.0001,\n",
       " 0.001,\n",
       " 0.01,\n",
       " 0.10000000000000001,\n",
       " 1.0]"
      ]
     },
     "execution_count": 6,
     "metadata": {},
     "output_type": "execute_result"
    }
   ],
   "source": [
    "import pickle\n",
    "import numpy as np\n",
    "\n",
    "hyperlist = list(10.0**(np.arange(-6, 1)))\n",
    "filename = \"hyperlist_lasso.p\"\n",
    "\n",
    "\n",
    "print \"Hyper list is \"\n",
    "print hyperlist\n",
    "\n",
    "pickle.dump(hyperlist, open(filename, 'wB'))\n",
    "\n",
    "print \"Dumped to \", filename\n",
    "print \"Loading: \"\n",
    "pickle.load(open(filename, 'rB'))"
   ]
  },
  {
   "cell_type": "code",
   "execution_count": null,
   "metadata": {
    "collapsed": true
   },
   "outputs": [],
   "source": []
  }
 ],
 "metadata": {
  "kernelspec": {
   "display_name": "Python 2",
   "language": "python",
   "name": "python2"
  },
  "language_info": {
   "codemirror_mode": {
    "name": "ipython",
    "version": 2
   },
   "file_extension": ".py",
   "mimetype": "text/x-python",
   "name": "python",
   "nbconvert_exporter": "python",
   "pygments_lexer": "ipython2",
   "version": "2.7.10"
  }
 },
 "nbformat": 4,
 "nbformat_minor": 0
}
